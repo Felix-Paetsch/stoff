{
 "cells": [
  {
   "cell_type": "markdown",
   "id": "e4ee912c",
   "metadata": {},
   "source": [
    "This notebook walks you through the process of uploading a new project to the annotation service. First make sure that the website is actually runnung and that the data in `../data/config.json` is correct. Note that you most likely want to run this notebook on the same platform as the webserver is running to reduce errors caused by dropped http-requests"
   ]
  },
  {
   "cell_type": "code",
   "execution_count": null,
   "id": "c19aa13a",
   "metadata": {},
   "outputs": [],
   "source": [
    "import json\n",
    "import os\n",
    "import glob\n",
    "\n",
    "from api_wrapper.main import init\n",
    "from api_wrapper.projects import *\n",
    "from api_wrapper.img_batches import *\n",
    "from api_wrapper.example_image import *\n",
    "from api_wrapper.points_and_joints import *\n",
    "\n",
    "init(\"../data/config.json\")"
   ]
  },
  {
   "cell_type": "code",
   "execution_count": null,
   "id": "3ce9abe4",
   "metadata": {},
   "outputs": [],
   "source": [
    "project_folder = \"./dummy_data/Rhinos\"\n",
    "project_name = \"Rhinos\""
   ]
  },
  {
   "cell_type": "markdown",
   "id": "6973a38e",
   "metadata": {},
   "source": [
    "## Folder structure\n",
    "\n",
    "We expect the `project_folder` to have the follwing structure/subdirectories:\n",
    "\n",
    "- `/meta`\n",
    "    - `*.json`\n",
    "    - `*.jpg or *.png`\n",
    "    - `*.jpg or *.png`\n",
    "    - `...`\n",
    "   \n",
    "- `/*`\n",
    "    - `/*`\n",
    "        - `*.jpg or *.png`\n",
    "        - `...`\n",
    "    - `...`\n",
    "   \n",
    "- `...`\n",
    "\n",
    "Here `*` indicates any abitrary name. Have a look at `/api_handling/dummy_data/Rhinos` for an example hot the files should look like.\n",
    "\n",
    "In `/meta` the unique JSON file holds the project config data. This is data about which points and joints exist, as well as data for the example images (the image files in that directory.)\n",
    "The other folders are for the specific batches. The names of the top level folders dont matter and are just for your organization. (E.g. you may choose to only have one.) The names of the second level folders are also gonna be the names of the corresponding batches. Lastly the image files in those secondary folders are the images for the specific batch."
   ]
  },
  {
   "cell_type": "markdown",
   "id": "5d5176a0",
   "metadata": {},
   "source": [
    "## Creating the project"
   ]
  },
  {
   "cell_type": "markdown",
   "id": "d087e9a9",
   "metadata": {},
   "source": [
    "See `/api_handling/docs.md` for a full documentation of the used methods\n",
    "\n",
    "Each method which interacts with the webserver returns an object with an error flag and the result. If no error occured everything is great. If an error occured and you fixed your code you can either\n",
    "\n",
    "- Use the API methods to fix any damage and try again or\n",
    "- Delete the project and run the code again\n",
    "\n",
    "In most cases I recommend the second approach as it is less work and doesn't loose you anything. You delete a project by calling:\n",
    "\n",
    "`delete_project(project_id)`\n",
    "\n",
    "You can find the id for the project in the url when navigating to it on the website."
   ]
  },
  {
   "cell_type": "code",
   "execution_count": null,
   "id": "177c742f",
   "metadata": {},
   "outputs": [],
   "source": [
    "project = create_project(project_name)\n",
    "project"
   ]
  },
  {
   "cell_type": "markdown",
   "id": "45011ddb",
   "metadata": {},
   "source": [
    "### Set Points & Joints"
   ]
  },
  {
   "cell_type": "code",
   "execution_count": null,
   "id": "e01bf099",
   "metadata": {},
   "outputs": [],
   "source": [
    "json_files = glob.glob(os.path.join(project_folder, \"meta\", \"*.json\"))\n",
    "if len(json_files) != 1:\n",
    "    raise ValueError(\"There should be exactly one JSON file in the project folder.\")\n",
    "json_file_name = os.path.basename(json_files[0])"
   ]
  },
  {
   "cell_type": "code",
   "execution_count": null,
   "id": "d054cb03",
   "metadata": {},
   "outputs": [],
   "source": [
    "with open(\n",
    "    os.path.join(project_folder, \"meta\", json_file_name), 'r', encoding='utf-8'\n",
    ") as file:\n",
    "    project_data = json.load(file)\n",
    "    \n",
    "points = {}\n",
    "for pt in project_data[\"points\"]:\n",
    "    points[pt] = create_point(project[\"id\"], pt)\n",
    "    \n",
    "joints = []\n",
    "for (x, y) in project_data[\"joints\"]:\n",
    "    joints.append(create_joint(points[x][\"point_id\"], points[y][\"point_id\"]))\n",
    "\n",
    "points, joints"
   ]
  },
  {
   "cell_type": "markdown",
   "id": "e67d70dc",
   "metadata": {},
   "source": [
    "### Set example images"
   ]
  },
  {
   "cell_type": "code",
   "execution_count": null,
   "id": "7fbee62e",
   "metadata": {
    "scrolled": true
   },
   "outputs": [],
   "source": [
    "i = 0\n",
    "for img in project_data[\"images\"]:\n",
    "    i += 1\n",
    "    ex_img = upload_example_image(project[\"id\"],  os.path.join(project_folder, \"meta\", img[\"name\"]), f\"Image { i }\")\n",
    "    print(ex_img)\n",
    "    \n",
    "    dimensions = img[\"resolution\"]\n",
    "    img_points = img[\"points\"]\n",
    "    \n",
    "    print(img_points)\n",
    "\n",
    "    set_example_img_points(ex_img[\"id\"], [{\n",
    "            \"point_id\":      points[key][\"point_id\"],\n",
    "            \"widthPercent\":  img_points[key][0]/dimensions[0] * 100,\n",
    "            \"heightPercent\": img_points[key][1]/dimensions[1] * 100\n",
    "        } for key in img_points.keys() if img_points[key][0]])"
   ]
  },
  {
   "cell_type": "markdown",
   "id": "0d0cffa0",
   "metadata": {},
   "source": [
    "### Upload image batches"
   ]
  },
  {
   "cell_type": "code",
   "execution_count": null,
   "id": "5d8bb14c",
   "metadata": {},
   "outputs": [],
   "source": [
    "for folder in os.listdir(project_folder):\n",
    "    folder_path = os.path.join(project_folder, folder)\n",
    "    \n",
    "    if folder != \"meta\" and os.path.isdir(folder_path):\n",
    "        # Iterate over batch folders within each folder\n",
    "        for batch_folder in os.listdir(folder_path):\n",
    "            batch_folder_path = os.path.join(folder_path, batch_folder)\n",
    "            \n",
    "            # Create an image batch for each batch folder\n",
    "            img_batch = create_batch(project[\"id\"], batch_folder)\n",
    "            \n",
    "            # Iterate over files in the batch folder\n",
    "            for fp in os.listdir(batch_folder_path):\n",
    "                absolute_fp = os.path.join(batch_folder_path, fp)\n",
    "                \n",
    "                # Upload each image to the image batch\n",
    "                r = upload_image_to_img_batch(\n",
    "                    img_batch[\"batch_id\"],\n",
    "                    absolute_fp\n",
    "                )\n",
    "                \n",
    "                if (r[\"error\"]):\n",
    "                    print(r[\"value\"])"
   ]
  },
  {
   "cell_type": "markdown",
   "id": "4a3a02bf",
   "metadata": {},
   "source": [
    "## Misc\n",
    "\n",
    "You probably want to make sure not commit the computes of this .ipynb file you do"
   ]
  },
  {
   "cell_type": "code",
   "execution_count": null,
   "id": "1fc2a853",
   "metadata": {},
   "outputs": [],
   "source": []
  }
 ],
 "metadata": {
  "kernelspec": {
   "display_name": "Python 3",
   "language": "python",
   "name": "python3"
  },
  "language_info": {
   "codemirror_mode": {
    "name": "ipython",
    "version": 3
   },
   "file_extension": ".py",
   "mimetype": "text/x-python",
   "name": "python",
   "nbconvert_exporter": "python",
   "pygments_lexer": "ipython3",
   "version": "3.8.8"
  }
 },
 "nbformat": 4,
 "nbformat_minor": 5
}
